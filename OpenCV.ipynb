{
 "cells": [
  {
   "cell_type": "code",
   "execution_count": 62,
   "id": "b192dc4c-535a-42ce-a390-e426658e41de",
   "metadata": {},
   "outputs": [
    {
     "name": "stdout",
     "output_type": "stream",
     "text": [
      "d:\\Anaconda\\envs\\faceid\\python.exe\n"
     ]
    }
   ],
   "source": [
    "import sys\n",
    "print(sys.executable)\n"
   ]
  },
  {
   "cell_type": "code",
   "execution_count": 63,
   "id": "117d0372-dd58-45b8-8984-49ad5112f462",
   "metadata": {},
   "outputs": [
    {
     "name": "stdout",
     "output_type": "stream",
     "text": [
      "Requirement already satisfied: matplotlib in d:\\anaconda\\envs\\faceid\\lib\\site-packages (3.10.6)\n",
      "Requirement already satisfied: contourpy>=1.0.1 in d:\\anaconda\\envs\\faceid\\lib\\site-packages (from matplotlib) (1.3.2)\n",
      "Requirement already satisfied: cycler>=0.10 in d:\\anaconda\\envs\\faceid\\lib\\site-packages (from matplotlib) (0.12.1)\n",
      "Requirement already satisfied: fonttools>=4.22.0 in d:\\anaconda\\envs\\faceid\\lib\\site-packages (from matplotlib) (4.59.2)\n",
      "Requirement already satisfied: kiwisolver>=1.3.1 in d:\\anaconda\\envs\\faceid\\lib\\site-packages (from matplotlib) (1.4.9)\n",
      "Requirement already satisfied: numpy>=1.23 in d:\\anaconda\\envs\\faceid\\lib\\site-packages (from matplotlib) (1.26.4)\n",
      "Requirement already satisfied: packaging>=20.0 in d:\\anaconda\\envs\\faceid\\lib\\site-packages (from matplotlib) (25.0)\n",
      "Requirement already satisfied: pillow>=8 in d:\\anaconda\\envs\\faceid\\lib\\site-packages (from matplotlib) (11.3.0)\n",
      "Requirement already satisfied: pyparsing>=2.3.1 in d:\\anaconda\\envs\\faceid\\lib\\site-packages (from matplotlib) (3.2.3)\n",
      "Requirement already satisfied: python-dateutil>=2.7 in d:\\anaconda\\envs\\faceid\\lib\\site-packages (from matplotlib) (2.9.0.post0)\n",
      "Requirement already satisfied: six>=1.5 in d:\\anaconda\\envs\\faceid\\lib\\site-packages (from python-dateutil>=2.7->matplotlib) (1.17.0)\n"
     ]
    }
   ],
   "source": [
    "!pip install matplotlib"
   ]
  },
  {
   "cell_type": "code",
   "execution_count": 64,
   "id": "94c19261-79fc-41df-879c-acf304f2128e",
   "metadata": {},
   "outputs": [],
   "source": [
    "import cv2"
   ]
  },
  {
   "cell_type": "code",
   "execution_count": 65,
   "id": "7fb34e1c-c5c6-4750-9178-6f4c6a62dc83",
   "metadata": {},
   "outputs": [
    {
     "name": "stdout",
     "output_type": "stream",
     "text": [
      "2.15.0\n"
     ]
    }
   ],
   "source": [
    "import tensorflow as tf\n",
    "print(tf.__version__)       # should print 2.15.0"
   ]
  },
  {
   "cell_type": "code",
   "execution_count": 66,
   "id": "dd41eb06-6055-4c7a-ae93-35dc9e7adb17",
   "metadata": {},
   "outputs": [],
   "source": [
    "from deepface import DeepFace"
   ]
  },
  {
   "cell_type": "code",
   "execution_count": 67,
   "id": "72ec1db1-1674-48a2-8b46-10bdbe4a4b0c",
   "metadata": {},
   "outputs": [],
   "source": [
    "img = cv2.imread('happy.jpeg')"
   ]
  },
  {
   "cell_type": "code",
   "execution_count": 68,
   "id": "30a49e10-be08-4852-a060-e47bb845f032",
   "metadata": {},
   "outputs": [],
   "source": [
    "import matplotlib.pyplot as plt"
   ]
  },
  {
   "cell_type": "code",
   "execution_count": 69,
   "id": "e3ddccf1-b13d-4a7f-a2f3-1fdf4a06082c",
   "metadata": {},
   "outputs": [
    {
     "data": {
      "image/png": "[encoded data removed]",
      "text/plain": [
       "<Figure size 640x480 with 1 Axes>"
      ]
     },
     "metadata": {},
     "output_type": "display_data"
    }
   ],
   "source": [
    "plt.plot([1, 2, 3], [4, 5, 6])\n",
    "plt.title(\"Matplotlib Test\")\n",
    "plt.show()"
   ]
  },
  {
   "cell_type": "code",
   "execution_count": 70,
   "id": "346b1c6b-22f9-4e45-99d1-27702bc009a2",
   "metadata": {},
   "outputs": [
    {
     "name": "stdout",
     "output_type": "stream",
     "text": [
      "[{'emotion': {'angry': 3.1134838707203016e-06, 'disgust': 9.720970695070719e-08, 'fear': 0.009715155465528369, 'happy': 99.97887015342712, 'sad': 0.00014060058219911298, 'surprise': 2.586596394849039e-05, 'neutral': 0.011249911767663434}, 'dominant_emotion': 'happy', 'region': {'x': 103, 'y': 24, 'w': 51, 'h': 51, 'left_eye': None, 'right_eye': None}, 'face_confidence': 0.93}]\n"
     ]
    }
   ],
   "source": [
    "result = DeepFace.analyze(img_path=\"happy.jpeg\", actions=[\"emotion\"])\n",
    "print(result)"
   ]
  },
  {
   "cell_type": "code",
   "execution_count": 71,
   "id": "c9d5496c-d6f7-4143-b10b-3e5a4c40ff7a",
   "metadata": {},
   "outputs": [
    {
     "name": "stdout",
     "output_type": "stream",
     "text": [
      "Webcam is ready ✅\n"
     ]
    }
   ],
   "source": [
    "# Start webcam (0 = default camera)\n",
    "cap = cv2.VideoCapture(0)\n",
    "\n",
    "# Test if webcam opens\n",
    "if not cap.isOpened():\n",
    "    print(\"Error: Could not open webcam.\")\n",
    "else:\n",
    "    print(\"Webcam is ready ✅\")\n"
   ]
  },
  {
   "cell_type": "code",
   "execution_count": 72,
   "id": "9fb79226-4f1e-4c45-99ba-5c45ce3131ea",
   "metadata": {},
   "outputs": [],
   "source": [
    "while True:\n",
    "    ret, frame = cap.read()\n",
    "    if not ret:\n",
    "        breakq\n",
    "\n",
    "    try:\n",
    "        # Analyze the current frame for emotion\n",
    "        result = DeepFace.analyze(frame, actions=[\"emotion\"], enforce_detection=False)\n",
    "\n",
    "        # Extract dominant emotion\n",
    "        dominant_emotion = result[0]['dominant_emotion']\n",
    "\n",
    "        # Show emotion text on frame\n",
    "        cv2.putText(frame, dominant_emotion, (50, 50),\n",
    "                    cv2.FONT_HERSHEY_SIMPLEX, 1, (0, 255, 0), 2)\n",
    "\n",
    "    except Exception as e:\n",
    "        print(\"Error:\", e)\n",
    "\n",
    "    # Show the frame\n",
    "    cv2.imshow(\"Real-time Emotion Detection\", frame)\n",
    "\n",
    "    # Press 'q' to exit\n",
    "    if cv2.waitKey(1) & 0xFF == ord('q'):\n",
    "        break\n"
   ]
  },
  {
   "cell_type": "code",
   "execution_count": 73,
   "id": "b4eec5b6-ac63-48c6-93c9-0ce9f81abb42",
   "metadata": {},
   "outputs": [],
   "source": [
    "cap.release()\n",
    "cv2.destroyAllWindows()\n"
   ]
  }
 ],
 "metadata": {
  "kernelspec": {
   "display_name": "Python (faceid)",
   "language": "python",
   "name": "faceid"
  },
  "language_info": {
   "codemirror_mode": {
    "name": "ipython",
    "version": 3
   },
   "file_extension": ".py",
   "mimetype": "text/x-python",
   "name": "python",
   "nbconvert_exporter": "python",
   "pygments_lexer": "ipython3",
   "version": "3.10.18"
  }
 },
 "nbformat": 4,
 "nbformat_minor": 5
}
